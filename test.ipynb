{
 "cells": [
  {
   "cell_type": "code",
   "execution_count": null,
   "metadata": {},
   "outputs": [],
   "source": [
    "import pyvista, importlib, numpy as np, gdist\n",
    "from rvmep import tools, anatomicalDirections, computeStrain\n",
    "importlib.reload(tools)"
   ]
  },
  {
   "cell_type": "code",
   "execution_count": null,
   "metadata": {},
   "outputs": [],
   "source": [
    "importlib.reload(tools)\n",
    "ed = tools.read_ucd_to_vtk('/Users/gbernardino/Downloads/2GABRIEL_2021.11.29/Temoin_002/BAS/T2_00.ucd')\n",
    "es = tools.read_ucd_to_vtk('/Users/gbernardino/Downloads/2GABRIEL_2021.11.29/Temoin_002/BAS/T2_08.ucd')\n",
    "\n",
    "apexId, pointsTricuspid, pointsPulmonary = tools.getTomtecApexValvePointsRV()\n",
    "valvePoints = np.concatenate([pointsTricuspid, pointsPulmonary])\n",
    "vLongitudinal, vCirc = anatomicalDirections.computeAnatomicalDirections(ed, apexId, valvePoints)\n",
    "\n",
    "tools.addArrayToMeshVTK(ed, vLongitudinal, 'vLongitudinal', 'faces')"
   ]
  },
  {
   "cell_type": "code",
   "execution_count": null,
   "metadata": {},
   "outputs": [],
   "source": [
    "strainTensors = computeStrain.computeStrainTensorGreen(ed, es)\n",
    "strainLong = computeStrain.computeStrainCoefficientAlongDirection(strainTensors, vLongitudinal)\n",
    "tools.addArrayToMeshVTK(ed, strainLong, 'strainLong')"
   ]
  },
  {
   "cell_type": "code",
   "execution_count": null,
   "metadata": {},
   "outputs": [],
   "source": [
    "# Parcellation example\n",
    "import rvmep.volumetricParcellation\n",
    "importlib.reload(rvmep.volumetricParcellation)"
   ]
  },
  {
   "cell_type": "code",
   "execution_count": null,
   "metadata": {},
   "outputs": [],
   "source": [
    "rvmep.volumetricParcellation.meshPartitionSurfaceGeodesics(ed, pointsPulmonary, pointsTricuspid, apexId)\n",
    "r = rvmep.volumetricParcellation.doPartition(ed)"
   ]
  },
  {
   "cell_type": "code",
   "execution_count": null,
   "metadata": {},
   "outputs": [],
   "source": [
    "# Save\n",
    "r.apical.save('/Users/gbernardino/Desktop/apex.vtk')\n",
    "r.rvot.save('/Users/gbernardino/Desktop/rvot.vtk')\n",
    "r.inlet.save('/Users/gbernardino/Desktop/inlet.vtk')\n",
    "ed.save('/Users/gbernardino/Desktop/ed.vtk')"
   ]
  },
  {
   "cell_type": "code",
   "execution_count": null,
   "metadata": {},
   "outputs": [],
   "source": [
    "# Compute the apical volume\n",
    "print(f'The apical volume is {r.apical.volume/1e3:.0f} ml')\n",
    "print(f'The inlet volume is {r.inlet.volume/1e3:.0f} ml')\n",
    "print(f'The RVOT volume is {r.rvot.volume/1e3:.0f} ml')"
   ]
  },
  {
   "cell_type": "code",
   "execution_count": null,
   "metadata": {},
   "outputs": [],
   "source": []
  }
 ],
 "metadata": {
  "kernelspec": {
   "display_name": "gbernardino",
   "language": "python",
   "name": "gbernardino"
  },
  "language_info": {
   "codemirror_mode": {
    "name": "ipython",
    "version": 3
   },
   "file_extension": ".py",
   "mimetype": "text/x-python",
   "name": "python",
   "nbconvert_exporter": "python",
   "pygments_lexer": "ipython3",
   "version": "3.10.5"
  },
  "vscode": {
   "interpreter": {
    "hash": "31f2aee4e71d21fbe5cf8b01ff0e069b9275f58929596ceb00d14d90e3e16cd6"
   }
  }
 },
 "nbformat": 4,
 "nbformat_minor": 4
}
