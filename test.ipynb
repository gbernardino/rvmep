{
 "cells": [
  {
   "cell_type": "code",
   "execution_count": 11,
   "metadata": {},
   "outputs": [
    {
     "data": {
      "text/plain": [
       "<module 'rvmep.tools' from '/Users/gbernardino/rvmep/rvmep/tools.py'>"
      ]
     },
     "execution_count": 11,
     "metadata": {},
     "output_type": "execute_result"
    }
   ],
   "source": [
    "import pyvista, importlib, numpy as np, gdist\n",
    "from rvmep import tools, anatomicalDirections, computeStrain\n",
    "importlib.reload(tools)"
   ]
  },
  {
   "cell_type": "code",
   "execution_count": 12,
   "metadata": {},
   "outputs": [
    {
     "name": "stderr",
     "output_type": "stream",
     "text": [
      "/Users/gbernardino/rvmep/rvmep/anatomicalDirections.py:63: RuntimeWarning: invalid value encountered in true_divide\n",
      "  vLongitudinal = vLongitudinal / np.linalg.norm(vLongitudinal, axis = 1).reshape((-1, 1))\n"
     ]
    }
   ],
   "source": [
    "importlib.reload(tools)\n",
    "ed = tools.read_ucd_to_vtk('/Users/gbernardino/Downloads/2GABRIEL_2021.11.29/Temoin_002/BAS/T2_00.ucd')\n",
    "es = tools.read_ucd_to_vtk('/Users/gbernardino/Downloads/2GABRIEL_2021.11.29/Temoin_002/BAS/T2_08.ucd')\n",
    "\n",
    "apexId, pointsTricuspid, pointsPulmonary = tools.getTomtecApexValvePointsRV()\n",
    "valvePoints = np.concatenate([pointsTricuspid, pointsPulmonary])\n",
    "vLongitudinal, vCirc = anatomicalDirections.computeAnatomicalDirections(ed, apexId, valvePoints)\n",
    "\n",
    "tools.addArrayToMeshVTK(ed, vLongitudinal, 'vLongitudinal', 'faces')"
   ]
  },
  {
   "cell_type": "code",
   "execution_count": 13,
   "metadata": {},
   "outputs": [],
   "source": [
    "strainTensors = computeStrain.computeStrainTensorGreen(ed, es)\n",
    "strainLong = computeStrain.computeStrainCoefficientAlongDirection(strainTensors, vLongitudinal)\n",
    "tools.addArrayToMeshVTK(ed, strainLong, 'strainLong')"
   ]
  },
  {
   "cell_type": "code",
   "execution_count": 7,
   "metadata": {},
   "outputs": [
    {
     "data": {
      "text/plain": [
       "<module 'rvmep.volumetricParcellation' from '/Users/gbernardino/rvmep/rvmep/volumetricParcellation.py'>"
      ]
     },
     "execution_count": 7,
     "metadata": {},
     "output_type": "execute_result"
    }
   ],
   "source": [
    "# Parcellation example\n",
    "import rvmep.volumetricParcellation\n",
    "importlib.reload(rvmep.volumetricParcellation)"
   ]
  },
  {
   "cell_type": "code",
   "execution_count": 8,
   "metadata": {},
   "outputs": [
    {
     "name": "stdout",
     "output_type": "stream",
     "text": [
      "sfepy: updating variables...\n",
      "sfepy: ...done\n",
      "sfepy: setting up dof connectivities...\n",
      "sfepy: ...done in 0.00 s\n",
      "sfepy: matrix shape: (3209, 3209)\n",
      "sfepy: assembling matrix graph...\n",
      "sfepy: ...done in 0.01 s\n",
      "sfepy: matrix structural nonzeros: 36965 (3.59e-03% fill)\n",
      "sfepy: updating variables...\n",
      "sfepy: ...done\n",
      "sfepy: updating materials...\n",
      "sfepy: ...done in 0.00 s\n",
      "sfepy: nls: iter: 0, residual: 4.499736e+03 (rel: 1.000000e+00)\n",
      "sfepy:   residual:    0.04 [s]\n",
      "sfepy:     matrix:    0.01 [s]\n",
      "sfepy:      solve:    0.02 [s]\n",
      "sfepy: nls: iter: 1, residual: 7.010259e-12 (rel: 1.557927e-15)\n",
      "sfepy: updating variables...\n",
      "sfepy: ...done\n",
      "sfepy: setting up dof connectivities...\n",
      "sfepy: ...done in 0.00 s\n",
      "sfepy: matrix shape: (3209, 3209)\n",
      "sfepy: assembling matrix graph...\n",
      "sfepy: ...done in 0.01 s\n",
      "sfepy: matrix structural nonzeros: 36965 (3.59e-03% fill)\n",
      "sfepy: updating variables...\n",
      "sfepy: ...done\n",
      "sfepy: updating materials...\n",
      "sfepy: ...done in 0.00 s\n",
      "sfepy: nls: iter: 0, residual: 6.529733e+03 (rel: 1.000000e+00)\n",
      "sfepy:   residual:    0.02 [s]\n",
      "sfepy:     matrix:    0.01 [s]\n",
      "sfepy:      solve:    0.02 [s]\n",
      "sfepy: nls: iter: 1, residual: 8.829042e-12 (rel: 1.352129e-15)\n",
      "sfepy: updating variables...\n",
      "sfepy: ...done\n",
      "sfepy: setting up dof connectivities...\n",
      "sfepy: ...done in 0.00 s\n",
      "sfepy: matrix shape: (3209, 3209)\n",
      "sfepy: assembling matrix graph...\n",
      "sfepy: ...done in 0.01 s\n",
      "sfepy: matrix structural nonzeros: 36965 (3.59e-03% fill)\n",
      "sfepy: updating variables...\n",
      "sfepy: ...done\n",
      "sfepy: updating materials...\n",
      "sfepy: ...done in 0.00 s\n",
      "sfepy: nls: iter: 0, residual: 3.965588e+03 (rel: 1.000000e+00)\n",
      "sfepy:   residual:    0.02 [s]\n",
      "sfepy:     matrix:    0.01 [s]\n",
      "sfepy:      solve:    0.02 [s]\n",
      "sfepy: nls: iter: 1, residual: 5.737153e-12 (rel: 1.446734e-15)\n"
     ]
    }
   ],
   "source": [
    "rvmep.volumetricParcellation.meshPartitionSurfaceGeodesics(ed, pointsPulmonary, pointsTricuspid, apexId)\n",
    "r = rvmep.volumetricParcellation.doPartition(ed)"
   ]
  },
  {
   "cell_type": "code",
   "execution_count": 9,
   "metadata": {},
   "outputs": [],
   "source": [
    "# Save\n",
    "r.apical.save('/Users/gbernardino/Desktop/apex.vtk')\n",
    "r.rvot.save('/Users/gbernardino/Desktop/rvot.vtk')\n",
    "r.inlet.save('/Users/gbernardino/Desktop/inlet.vtk')\n",
    "ed.save('/Users/gbernardino/Desktop/ed.vtk')"
   ]
  },
  {
   "cell_type": "code",
   "execution_count": 10,
   "metadata": {},
   "outputs": [
    {
     "name": "stdout",
     "output_type": "stream",
     "text": [
      "The apical volume is 4 ml\n",
      "The inlet volume is 13 ml\n",
      "The RVOT volume is 6 ml\n"
     ]
    }
   ],
   "source": [
    "# Compute the apical volume\n",
    "print(f'The apical volume is {r.apical.volume/1e3:.0f} ml')\n",
    "print(f'The inlet volume is {r.inlet.volume/1e3:.0f} ml')\n",
    "print(f'The RVOT volume is {r.rvot.volume/1e3:.0f} ml')"
   ]
  },
  {
   "cell_type": "code",
   "execution_count": null,
   "metadata": {},
   "outputs": [],
   "source": []
  }
 ],
 "metadata": {
  "kernelspec": {
   "display_name": "Python 3",
   "language": "python",
   "name": "python3"
  },
  "language_info": {
   "codemirror_mode": {
    "name": "ipython",
    "version": 3
   },
   "file_extension": ".py",
   "mimetype": "text/x-python",
   "name": "python",
   "nbconvert_exporter": "python",
   "pygments_lexer": "ipython3",
   "version": "3.8.10 (default, Nov 14 2022, 12:59:47) \n[GCC 9.4.0]"
  },
  "orig_nbformat": 4,
  "vscode": {
   "interpreter": {
    "hash": "31f2aee4e71d21fbe5cf8b01ff0e069b9275f58929596ceb00d14d90e3e16cd6"
   }
  }
 },
 "nbformat": 4,
 "nbformat_minor": 2
}
