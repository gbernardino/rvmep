{
 "cells": [
  {
   "cell_type": "code",
   "execution_count": 40,
   "metadata": {},
   "outputs": [
    {
     "data": {
      "text/plain": [
       "<module 'rvmep.computeStrain' from '/Users/gbernardino/rvmep/rvmep/computeStrain.py'>"
      ]
     },
     "execution_count": 40,
     "metadata": {},
     "output_type": "execute_result"
    }
   ],
   "source": [
    "import pyvista, importlib\n",
    "from rvmep import tools, anatomicalDirections, computeStrain\n",
    "importlib.reload(computeStrain)"
   ]
  },
  {
   "cell_type": "code",
   "execution_count": 41,
   "metadata": {},
   "outputs": [],
   "source": [
    "importlib.reload(tools)\n",
    "ed = tools.read_ucd_to_vtk('/Users/gbernardino/Downloads/2GABRIEL_2021.11.29/Temoin_002/BAS/T2_00.ucd')\n",
    "es = tools.read_ucd_to_vtk('/Users/gbernardino/Downloads/2GABRIEL_2021.11.29/Temoin_002/BAS/T2_08.ucd')\n",
    "\n",
    "apexId, valvePoints = tools.getTomtecApexValvePointsRV()"
   ]
  },
  {
   "cell_type": "code",
   "execution_count": 42,
   "metadata": {},
   "outputs": [
    {
     "name": "stderr",
     "output_type": "stream",
     "text": [
      "/Users/gbernardino/opt/anaconda3/envs/python36/lib/python3.6/site-packages/scipy/sparse/linalg/dsolve/linsolve.py:145: SparseEfficiencyWarning: spsolve requires A be CSC or CSR matrix format\n",
      "  SparseEfficiencyWarning)\n",
      "/Users/gbernardino/rvmep/rvmep/anatomicalDirections.py:63: RuntimeWarning: invalid value encountered in true_divide\n",
      "  vLongitudinal = vLongitudinal / np.linalg.norm(vLongitudinal, axis = 1).reshape((-1, 1))\n"
     ]
    }
   ],
   "source": [
    "vLongitudinal, vCirc = anatomicalDirections.computeAnatomicalDirections(d, apexId, valvePoints)"
   ]
  },
  {
   "cell_type": "code",
   "execution_count": 46,
   "metadata": {},
   "outputs": [],
   "source": [
    "strainTensors = computeStrain.computeStrainTensorGreen(ed, es)"
   ]
  },
  {
   "cell_type": "code",
   "execution_count": 47,
   "metadata": {},
   "outputs": [
    {
     "data": {
      "text/plain": [
       "array([ 0.31254506,  0.03663424,  0.09782841, ..., -0.07412657,\n",
       "       -0.08579707, -0.03842386])"
      ]
     },
     "execution_count": 47,
     "metadata": {},
     "output_type": "execute_result"
    }
   ],
   "source": [
    "computeStrain.computeStrainCoefficientAlongDirection(strainTensors, vLongitudinal)"
   ]
  },
  {
   "cell_type": "code",
   "execution_count": null,
   "metadata": {},
   "outputs": [],
   "source": []
  }
 ],
 "metadata": {
  "interpreter": {
   "hash": "de98cee644d5c6738a5f7ae052676201c79041b6660808e2d50ae72835aa5d44"
  },
  "kernelspec": {
   "display_name": "Python 3.6.12 ('python36')",
   "language": "python",
   "name": "python3"
  },
  "language_info": {
   "codemirror_mode": {
    "name": "ipython",
    "version": 3
   },
   "file_extension": ".py",
   "mimetype": "text/x-python",
   "name": "python",
   "nbconvert_exporter": "python",
   "pygments_lexer": "ipython3",
   "version": "3.6.12"
  },
  "orig_nbformat": 4
 },
 "nbformat": 4,
 "nbformat_minor": 2
}
