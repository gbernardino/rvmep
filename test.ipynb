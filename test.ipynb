{
 "cells": [
  {
   "cell_type": "code",
   "execution_count": 79,
   "metadata": {},
   "outputs": [
    {
     "data": {
      "text/plain": [
       "<module 'rvmep.computeStrain' from '/Users/gbernardino/rvmep/rvmep/computeStrain.py'>"
      ]
     },
     "execution_count": 79,
     "metadata": {},
     "output_type": "execute_result"
    }
   ],
   "source": [
    "import pyvista, importlib, numpy as np, gdist\n",
    "from rvmep import tools, anatomicalDirections, computeStrain\n",
    "importlib.reload(computeStrain)"
   ]
  },
  {
   "cell_type": "code",
   "execution_count": 114,
   "metadata": {},
   "outputs": [
    {
     "name": "stderr",
     "output_type": "stream",
     "text": [
      "/Users/gbernardino/rvmep/rvmep/anatomicalDirections.py:63: RuntimeWarning: invalid value encountered in true_divide\n",
      "  vLongitudinal = vLongitudinal / np.linalg.norm(vLongitudinal, axis = 1).reshape((-1, 1))\n"
     ]
    }
   ],
   "source": [
    "importlib.reload(tools)\n",
    "ed = tools.read_ucd_to_vtk('/Users/gbernardino/Downloads/2GABRIEL_2021.11.29/Temoin_002/BAS/T2_00.ucd')\n",
    "es = tools.read_ucd_to_vtk('/Users/gbernardino/Downloads/2GABRIEL_2021.11.29/Temoin_002/BAS/T2_08.ucd')\n",
    "\n",
    "apexId, pointsTricuspid, pointsPulmonary = tools.getTomtecApexValvePointsRV()\n",
    "valvePoints = np.concatenate([pointsTricuspid, pointsPulmonary])\n",
    "vLongitudinal, vCirc = anatomicalDirections.computeAnatomicalDirections(ed, apexId, valvePoints)\n",
    "\n",
    "tools.addArrayToMeshVTK(ed, vLongitudinal, 'vLongitudinal')"
   ]
  },
  {
   "cell_type": "code",
   "execution_count": 115,
   "metadata": {},
   "outputs": [],
   "source": [
    "strainTensors = computeStrain.computeStrainTensorGreen(ed, es)\n",
    "strainLong = computeStrain.computeStrainCoefficientAlongDirection(strainTensors, vLongitudinal)\n",
    "tools.addArrayToMeshVTK(ed, strainLong, 'strainLong')"
   ]
  },
  {
   "cell_type": "code",
   "execution_count": 125,
   "metadata": {},
   "outputs": [
    {
     "data": {
      "text/plain": [
       "<module 'rvmep.volumetricParcellation' from '/Users/gbernardino/rvmep/rvmep/volumetricParcellation.py'>"
      ]
     },
     "execution_count": 125,
     "metadata": {},
     "output_type": "execute_result"
    }
   ],
   "source": [
    "# Parcellation example\n",
    "importlib.reload(rvmep.volumetricParcellation)"
   ]
  },
  {
   "cell_type": "code",
   "execution_count": 126,
   "metadata": {},
   "outputs": [
    {
     "name": "stdout",
     "output_type": "stream",
     "text": [
      "sfepy: updating variables...\n",
      "sfepy: ...done\n",
      "sfepy: setting up dof connectivities...\n",
      "sfepy: ...done in 0.00 s\n",
      "sfepy: matrix shape: (3209, 3209)\n",
      "sfepy: assembling matrix graph...\n",
      "sfepy: ...done in 0.01 s\n",
      "sfepy: matrix structural nonzeros: 36965 (3.59e-03% fill)\n",
      "sfepy: updating variables...\n",
      "sfepy: ...done\n",
      "sfepy: updating materials...\n",
      "sfepy: ...done in 0.00 s\n",
      "sfepy: nls: iter: 0, residual: 4.499736e+03 (rel: 1.000000e+00)\n",
      "sfepy:   residual:    0.02 [s]\n",
      "sfepy:     matrix:    0.01 [s]\n",
      "sfepy:      solve:    0.02 [s]\n",
      "sfepy: nls: iter: 1, residual: 6.912266e-12 (rel: 1.536149e-15)\n",
      "sfepy: updating variables...\n",
      "sfepy: ...done\n",
      "sfepy: setting up dof connectivities...\n",
      "sfepy: ...done in 0.00 s\n",
      "sfepy: matrix shape: (3209, 3209)\n",
      "sfepy: assembling matrix graph...\n",
      "sfepy: ...done in 0.01 s\n",
      "sfepy: matrix structural nonzeros: 36965 (3.59e-03% fill)\n",
      "sfepy: updating variables...\n",
      "sfepy: ...done\n",
      "sfepy: updating materials...\n",
      "sfepy: ...done in 0.00 s\n",
      "sfepy: nls: iter: 0, residual: 6.529733e+03 (rel: 1.000000e+00)\n",
      "sfepy:   residual:    0.02 [s]\n",
      "sfepy:     matrix:    0.01 [s]\n",
      "sfepy:      solve:    0.02 [s]\n",
      "sfepy: nls: iter: 1, residual: 8.547530e-12 (rel: 1.309017e-15)\n",
      "sfepy: updating variables...\n",
      "sfepy: ...done\n",
      "sfepy: setting up dof connectivities...\n",
      "sfepy: ...done in 0.00 s\n",
      "sfepy: matrix shape: (3209, 3209)\n",
      "sfepy: assembling matrix graph...\n",
      "sfepy: ...done in 0.01 s\n",
      "sfepy: matrix structural nonzeros: 36965 (3.59e-03% fill)\n",
      "sfepy: updating variables...\n",
      "sfepy: ...done\n",
      "sfepy: updating materials...\n",
      "sfepy: ...done in 0.00 s\n",
      "sfepy: nls: iter: 0, residual: 3.965588e+03 (rel: 1.000000e+00)\n",
      "sfepy:   residual:    0.02 [s]\n",
      "sfepy:     matrix:    0.01 [s]\n",
      "sfepy:      solve:    0.02 [s]\n",
      "sfepy: nls: iter: 1, residual: 5.857393e-12 (rel: 1.477055e-15)\n"
     ]
    }
   ],
   "source": [
    "rvmep.volumetricParcellation.meshPartitionSurfaceGeodesics(ed, pointsPulmonary, pointsTricuspid, apexId)\n",
    "r = rvmep.volumetricParcellation.doPartition(ed)"
   ]
  },
  {
   "cell_type": "code",
   "execution_count": 127,
   "metadata": {},
   "outputs": [],
   "source": [
    "# Save\n",
    "r.apical.save('/Users/gbernardino/Desktop/apex.vtk')\n",
    "r.rvot.save('/Users/gbernardino/Desktop/rvot.vtk')\n",
    "r.inlet.save('/Users/gbernardino/Desktop/inlet.vtk')\n",
    "ed.save('/Users/gbernardino/Desktop/ed.vtk')"
   ]
  },
  {
   "cell_type": "code",
   "execution_count": 128,
   "metadata": {},
   "outputs": [
    {
     "name": "stdout",
     "output_type": "stream",
     "text": [
      "The apical volume is 4 ml\n",
      "The inlet volume is 6 ml\n",
      "The RVOT volume is 13 ml\n"
     ]
    }
   ],
   "source": [
    "# Compute the apical volume\n",
    "print(f'The apical volume is {r.apical.volume/1e3:.0f} ml')\n",
    "print(f'The inlet volume is {r.inlet.volume/1e3:.0f} ml')\n",
    "print(f'The RVOT volume is {r.rvot.volume/1e3:.0f} ml')"
   ]
  },
  {
   "cell_type": "code",
   "execution_count": 124,
   "metadata": {},
   "outputs": [
    {
     "data": {
      "text/plain": [
       "22.568015855393348"
      ]
     },
     "execution_count": 124,
     "metadata": {},
     "output_type": "execute_result"
    }
   ],
   "source": [
    "ed.volume/1e3"
   ]
  },
  {
   "cell_type": "code",
   "execution_count": null,
   "metadata": {},
   "outputs": [],
   "source": []
  }
 ],
 "metadata": {
  "interpreter": {
   "hash": "de98cee644d5c6738a5f7ae052676201c79041b6660808e2d50ae72835aa5d44"
  },
  "kernelspec": {
   "display_name": "Python 3.6.12 ('python36')",
   "language": "python",
   "name": "python3"
  },
  "language_info": {
   "codemirror_mode": {
    "name": "ipython",
    "version": 3
   },
   "file_extension": ".py",
   "mimetype": "text/x-python",
   "name": "python",
   "nbconvert_exporter": "python",
   "pygments_lexer": "ipython3",
   "version": "3.6.12"
  },
  "orig_nbformat": 4
 },
 "nbformat": 4,
 "nbformat_minor": 2
}
