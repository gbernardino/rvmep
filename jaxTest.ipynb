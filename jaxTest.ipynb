{
 "cells": [
  {
   "cell_type": "code",
   "execution_count": 85,
   "metadata": {},
   "outputs": [],
   "source": [
    "import jax, numpy as np, scipy, rvmep, jax.numpy as jnp, jax.scipy, jax.scipy.optimize, jaxopt\n",
    "import pyvista\n",
    "from rvmep import computeStrain, anatomicalDirections, tools"
   ]
  },
  {
   "cell_type": "code",
   "execution_count": 394,
   "metadata": {},
   "outputs": [],
   "source": [
    "m1_ed = pyvista.PolyData('Data/exp1_ed_ref.vtk')\n",
    "m1_es = pyvista.PolyData('Data/exp1_es_ref.vtk')\n",
    "m2_ed = pyvista.PolyData('Data/exp2_ed_ref.vtk')\n",
    "m2_es = pyvista.PolyData('Data/exp2_es_ref.vtk')"
   ]
  },
  {
   "cell_type": "code",
   "execution_count": 193,
   "metadata": {},
   "outputs": [],
   "source": [
    "E = computeStrain.computeDeformationTensor(m1_ed, m1_es)\n",
    "apexId, pointsTricuspid, pointsPulmonary, valvesPointsId = tools.getTomtecApexValvePointsRV()\n",
    "\n",
    "\n",
    "m1_long, m1_circ = anatomicalDirections.computeAnatomicalDirectionsHeatEquation(m1_ed,apexId, valvesPointsId)\n",
    "dirs_m1 = np.stack((m1_long, m1_circ), axis = 2)\n",
    "m2_long, m2_circ = anatomicalDirections.computeAnatomicalDirectionsHeatEquation(m2_ed,apexId,valvesPointsId)\n",
    "dirs_m2 = np.stack((m2_long, m2_circ), axis = 2)\n",
    "\n",
    "valid_triangles = np.zeros(m1_ed.n_cells, dtype = bool)\n",
    "for i, t in enumerate(m1_ed.faces.reshape((-1, 4))[:, 1:]):\n",
    "    valid_triangles[i] = all([p not in valvesPointsId for p in t ])\n",
    "\n",
    "G = computeStrain.computeStrainTensorGreen(m1_ed, m1_es)\n",
    "G_anatomic =  np.einsum('nji,njk, nkl->nil', dirs_m1,  G, dirs_m1)[valid_triangles]\n",
    "dirs_m2 = dirs_m2[valid_triangles]"
   ]
  },
  {
   "cell_type": "code",
   "execution_count": 396,
   "metadata": {},
   "outputs": [],
   "source": [
    "X = jnp.array(m2_ed.points)\n",
    "D = np.array([[-1, 1, 0], [-1, 0, 1]])\n",
    "E_prev = np.zeros((np.sum(valid_triangles), 3, 3))\n",
    "triangles = m2_ed.faces.reshape((-1, 4))[:, 1:][valid_triangles]\n",
    "for i, t in enumerate(triangles):\n",
    "    E_prev[i] = np.linalg.pinv(D@ m2_ed.points[t]) @ D\n",
    "\n",
    "def loss(x, X_ref = m2_ed.points, E_prev = E_prev, eps = 1e-5, triangles = triangles):\n",
    "    X = x.reshape((-1, 3))\n",
    "    X_by_triangle = X[triangles]\n",
    "    FFT_anatomic =  jnp.einsum('nji,njr,nrk, nlk, ntl,nto ->nio', dirs_m2,  E_prev, X_by_triangle,X_by_triangle,E_prev,dirs_m2)\n",
    "    G_new_anatomic = (FFT_anatomic - jnp.eye(2))/2\n",
    "    return jnp.sum((G_new_anatomic - G_anatomic) * (G_new_anatomic - G_anatomic) ) + eps * jnp.sum((X - X_ref) * (X - X_ref))\n",
    "loss_jit = jax.jit(loss)"
   ]
  },
  {
   "cell_type": "code",
   "execution_count": 397,
   "metadata": {},
   "outputs": [
    {
     "name": "stdout",
     "output_type": "stream",
     "text": [
      "1.99 ms ± 11.9 µs per loop (mean ± std. dev. of 7 runs, 100 loops each)\n",
      "82.3 µs ± 370 ns per loop (mean ± std. dev. of 7 runs, 10,000 loops each)\n"
     ]
    }
   ],
   "source": [
    "%timeit loss(X)\n",
    "%timeit loss_jit(X)"
   ]
  },
  {
   "cell_type": "code",
   "execution_count": 398,
   "metadata": {},
   "outputs": [],
   "source": [
    "opt = jaxopt.BFGS(loss_jit, maxiter = 1000)\n",
    "X = jax.numpy.array(m2_ed.points)\n",
    "r = opt.run(X)"
   ]
  },
  {
   "cell_type": "code",
   "execution_count": 402,
   "metadata": {},
   "outputs": [
    {
     "data": {
      "text/plain": [
       "BfgsState(iter_num=Array(919, dtype=int32, weak_type=True), value=Array(1.1965063, dtype=float32), grad=Array([[ 6.0869716e-06, -2.5997870e-05, -3.1843723e-05],\n",
       "       [ 9.8224245e-06,  2.0676438e-05,  6.7161745e-06],\n",
       "       [ 1.6551377e-05, -2.2108958e-05,  9.5137966e-06],\n",
       "       ...,\n",
       "       [ 0.0000000e+00,  0.0000000e+00,  0.0000000e+00],\n",
       "       [ 0.0000000e+00,  0.0000000e+00,  0.0000000e+00],\n",
       "       [ 0.0000000e+00,  0.0000000e+00,  0.0000000e+00]], dtype=float32), stepsize=Array(1., dtype=float32), error=Array(0.00096062, dtype=float32), H=Array([[ 1.8267883 , -0.06006246, -0.24014543, ...,  0.        ,\n",
       "         0.        ,  0.        ],\n",
       "       [-0.06006714,  2.4050725 ,  1.1119647 , ...,  0.        ,\n",
       "         0.        ,  0.        ],\n",
       "       [-0.24014798,  1.111931  ,  2.8374205 , ...,  0.        ,\n",
       "         0.        ,  0.        ],\n",
       "       ...,\n",
       "       [ 0.        ,  0.        ,  0.        , ...,  1.        ,\n",
       "         0.        ,  0.        ],\n",
       "       [ 0.        ,  0.        ,  0.        , ...,  0.        ,\n",
       "         1.        ,  0.        ],\n",
       "       [ 0.        ,  0.        ,  0.        , ...,  0.        ,\n",
       "         0.        ,  1.        ]], dtype=float32), aux=None)"
      ]
     },
     "execution_count": 402,
     "metadata": {},
     "output_type": "execute_result"
    }
   ],
   "source": [
    "r[1]"
   ]
  },
  {
   "cell_type": "code",
   "execution_count": 399,
   "metadata": {},
   "outputs": [],
   "source": [
    "def numpyToPyvista(x, triangles):\n",
    "    return pyvista.PolyData(np.asarray(x).reshape((-1, 3)), np.hstack((np.ones((len(triangles), 1)) * 3, triangles)).astype(int).flatten())\n",
    "pv = numpyToPyvista(r.params, triangles)\n",
    "pv.save('Data/strain0.vtk')"
   ]
  },
  {
   "cell_type": "code",
   "execution_count": 269,
   "metadata": {},
   "outputs": [
    {
     "data": {
      "text/html": [
       "\n",
       "<table>\n",
       "<tr><th>PolyData</th><th>Information</th></tr>\n",
       "<tr><td>N Cells</td><td>1587</td></tr>\n",
       "<tr><td>N Points</td><td>938</td></tr>\n",
       "<tr><td>N Strips</td><td>0</td></tr>\n",
       "<tr><td>X Bounds</td><td>-2.196e+01, 3.072e+01</td></tr>\n",
       "<tr><td>Y Bounds</td><td>-3.821e+01, 4.130e+01</td></tr>\n",
       "<tr><td>Z Bounds</td><td>-4.791e+01, 3.458e+01</td></tr>\n",
       "<tr><td>N Arrays</td><td>0</td></tr>\n",
       "</table>\n",
       "\n"
      ],
      "text/plain": [
       "PolyData (0x2e824bb20)\n",
       "  N Cells:    1587\n",
       "  N Points:   938\n",
       "  N Strips:   0\n",
       "  X Bounds:   -2.196e+01, 3.072e+01\n",
       "  Y Bounds:   -3.821e+01, 4.130e+01\n",
       "  Z Bounds:   -4.791e+01, 3.458e+01\n",
       "  N Arrays:   0"
      ]
     },
     "execution_count": 269,
     "metadata": {},
     "output_type": "execute_result"
    }
   ],
   "source": [
    "pv"
   ]
  },
  {
   "cell_type": "code",
   "execution_count": 232,
   "metadata": {},
   "outputs": [
    {
     "ename": "ValueError",
     "evalue": "Einstein sum subscript 'nrk' does not contain the correct number of indices for operand 2.",
     "output_type": "error",
     "traceback": [
      "\u001b[0;31m---------------------------------------------------------------------------\u001b[0m",
      "\u001b[0;31mValueError\u001b[0m                                Traceback (most recent call last)",
      "Cell \u001b[0;32mIn[232], line 5\u001b[0m\n\u001b[1;32m      2\u001b[0m X_ref \u001b[39m=\u001b[39m m2_ed\u001b[39m.\u001b[39mpoints\n\u001b[1;32m      4\u001b[0m X_by_triangle \u001b[39m=\u001b[39m X[triangles]\n\u001b[0;32m----> 5\u001b[0m G_new_anatomic \u001b[39m=\u001b[39m  jnp\u001b[39m.\u001b[39;49meinsum(\u001b[39m'\u001b[39;49m\u001b[39mnji,njr, nrk, nkl->nil\u001b[39;49m\u001b[39m'\u001b[39;49m, dirs_m2,  E_prev,  X_by_triangle, dirs_m2)\n\u001b[1;32m      6\u001b[0m jnp\u001b[39m.\u001b[39mlinalg\u001b[39m.\u001b[39mnorm(G_new_anatomic \u001b[39m-\u001b[39m G_anatomic) \u001b[39m+\u001b[39m eps \u001b[39m*\u001b[39m jnp\u001b[39m.\u001b[39mlinalg\u001b[39m.\u001b[39mnorm(X \u001b[39m-\u001b[39m X_ref)\n",
      "File \u001b[0;32m~/miniconda3/envs/gbernardino/lib/python3.10/site-packages/jax/_src/numpy/lax_numpy.py:3241\u001b[0m, in \u001b[0;36meinsum\u001b[0;34m(subscripts, out, optimize, precision, preferred_element_type, _use_xeinsum, _dot_general, *operands)\u001b[0m\n\u001b[1;32m   3239\u001b[0m   ty \u001b[39m=\u001b[39m \u001b[39mnext\u001b[39m(\u001b[39miter\u001b[39m(non_constant_dim_types))\n\u001b[1;32m   3240\u001b[0m   contract_path \u001b[39m=\u001b[39m _poly_einsum_handlers\u001b[39m.\u001b[39mget(ty, _default_poly_einsum_handler)\n\u001b[0;32m-> 3241\u001b[0m operands, contractions \u001b[39m=\u001b[39m contract_path(\n\u001b[1;32m   3242\u001b[0m       \u001b[39m*\u001b[39;49moperands, einsum_call\u001b[39m=\u001b[39;49m\u001b[39mTrue\u001b[39;49;00m, use_blas\u001b[39m=\u001b[39;49m\u001b[39mTrue\u001b[39;49;00m, optimize\u001b[39m=\u001b[39;49moptimize)\n\u001b[1;32m   3244\u001b[0m contractions \u001b[39m=\u001b[39m \u001b[39mtuple\u001b[39m((a, \u001b[39mfrozenset\u001b[39m(b), c) \u001b[39mfor\u001b[39;00m a, b, c, \u001b[39m*\u001b[39m_ \u001b[39min\u001b[39;00m contractions)\n\u001b[1;32m   3246\u001b[0m _einsum_computation \u001b[39m=\u001b[39m jax\u001b[39m.\u001b[39mnamed_call(\n\u001b[1;32m   3247\u001b[0m     _einsum, name\u001b[39m=\u001b[39mspec) \u001b[39mif\u001b[39;00m spec \u001b[39mis\u001b[39;00m \u001b[39mnot\u001b[39;00m \u001b[39mNone\u001b[39;00m \u001b[39melse\u001b[39;00m _einsum\n",
      "File \u001b[0;32m~/miniconda3/envs/gbernardino/lib/python3.10/site-packages/opt_einsum/contract.py:228\u001b[0m, in \u001b[0;36mcontract_path\u001b[0;34m(*operands, **kwargs)\u001b[0m\n\u001b[1;32m    225\u001b[0m sh \u001b[39m=\u001b[39m input_shps[tnum]\n\u001b[1;32m    227\u001b[0m \u001b[39mif\u001b[39;00m \u001b[39mlen\u001b[39m(sh) \u001b[39m!=\u001b[39m \u001b[39mlen\u001b[39m(term):\n\u001b[0;32m--> 228\u001b[0m     \u001b[39mraise\u001b[39;00m \u001b[39mValueError\u001b[39;00m(\u001b[39m\"\u001b[39m\u001b[39mEinstein sum subscript \u001b[39m\u001b[39m'\u001b[39m\u001b[39m{}\u001b[39;00m\u001b[39m'\u001b[39m\u001b[39m does not contain the \u001b[39m\u001b[39m\"\u001b[39m\n\u001b[1;32m    229\u001b[0m                      \u001b[39m\"\u001b[39m\u001b[39mcorrect number of indices for operand \u001b[39m\u001b[39m{}\u001b[39;00m\u001b[39m.\u001b[39m\u001b[39m\"\u001b[39m\u001b[39m.\u001b[39mformat(input_list[tnum], tnum))\n\u001b[1;32m    230\u001b[0m \u001b[39mfor\u001b[39;00m cnum, char \u001b[39min\u001b[39;00m \u001b[39menumerate\u001b[39m(term):\n\u001b[1;32m    231\u001b[0m     dim \u001b[39m=\u001b[39m \u001b[39mint\u001b[39m(sh[cnum])\n",
      "\u001b[0;31mValueError\u001b[0m: Einstein sum subscript 'nrk' does not contain the correct number of indices for operand 2."
     ]
    }
   ],
   "source": [
    "eps = 1e-5\n",
    "X_ref = m2_ed.points\n",
    "\n",
    "X_by_triangle = X[triangles]\n",
    "G_new_anatomic =  jnp.einsum('nji,njr, nrk, nkl->nil', dirs_m2,  E_prev,  X_by_triangle, dirs_m2)\n",
    "jnp.linalg.norm(G_new_anatomic - G_anatomic) + eps * jnp.linalg.norm(X - X_ref)"
   ]
  }
 ],
 "metadata": {
  "kernelspec": {
   "display_name": "gbernardino",
   "language": "python",
   "name": "python3"
  },
  "language_info": {
   "codemirror_mode": {
    "name": "ipython",
    "version": 3
   },
   "file_extension": ".py",
   "mimetype": "text/x-python",
   "name": "python",
   "nbconvert_exporter": "python",
   "pygments_lexer": "ipython3",
   "version": "3.10.10"
  },
  "orig_nbformat": 4
 },
 "nbformat": 4,
 "nbformat_minor": 2
}
